{
 "cells": [
  {
   "cell_type": "code",
   "execution_count": 2,
   "metadata": {},
   "outputs": [],
   "source": [
    "from konlpy.tag import Hannanum\n",
    "import pandas as pd\n",
    "def flatten(items): #2차원 리스트를 1차원 리스트로 변환\n",
    "        flatList=[]\n",
    "        for elem in items:\n",
    "            if type(elem) == list: #자료형이 리스트이면\n",
    "                for e in elem: #개별 원소를 추가\n",
    "                    flatList.append(e)\n",
    "            else: #리스트가 아니면 그대로 추가\n",
    "                flatList.append(elem)\n",
    "        return flatList"
   ]
  },
  {
   "cell_type": "code",
   "execution_count": 3,
   "metadata": {},
   "outputs": [],
   "source": [
    "f=open(f'c:/data/twitter/twitter_5m.txt', encoding='utf-8')\n",
    "lines = f.readlines() \n",
    "f.close()\n",
    "\n",
    "han=Hannanum() #한나눔 패키지\n",
    "temp=[]\n",
    "for j in range(len(lines)):\n",
    "    a=lines[j].strip() #공백,줄바꿈,탭 제거\n",
    "    temp.append(han.nouns(a))"
   ]
  },
  {
   "cell_type": "code",
   "execution_count": 4,
   "metadata": {},
   "outputs": [],
   "source": [
    "stopwords = ['#WednesdayWordExpo', '#thebucheon', '#大邱', '#新冠肺炎', '#新天地', '#李万熙', '#虚假报道', \"'코로나19\", \"'코로나19'\", '/20200502070024839\\xa0…', '/20200505070112092\\xa0…', \n",
    "'/20200519051505627\\xa0…', '/20200522060602773\\xa0…', '/20200528050752979\\xa0…', '05.', '0명', '1.', '10', '100', '100명', '10만명', '10명', '11일', '12', '12일', '13일', '15-30만까지벌수있다', \n",
    "'15일', '1654', '1656', '1671', '1675', '1689', '1692', '18일', '19', '19일', '1년', '1만명', '1명', '1분기', '1월', '1위', '1일', '1차', '2.', '20', '2020', '2020.', '2020년', '20대', '20일', \n",
    "'23세', '25일', '28', '2년', '2명', '2배', '2월', '2주', '2차', '3.', '30', '3000만원', '30대', '31번', '3년', '3명', '3월', '3주년', '4.', '40', '4명', '4월', '4일', '5.', '5월', '5일', '6월', \n",
    "'6일', '7월', '7일', '80', 'CIX(씨아이엑스),', 'Q&A', '[코로나19', '[코로나19]', 'com', 'f=m&from=mtop\\xa0…', 'f=m\\xa0…', 'html\\xa0…', 'idxno=730577\\xa0…', 'input=tw\\xa0…', '\\xa0pic.', '\\xa0…', \n",
    "'\\xa0…pic.', '‘코로', '‘코로나19', '‘코로나19’', 'ㅅㅂ', 'ㅋㅋ', 'ㅋㅋㅋ', 'ㅋㅋㅋㅋ', 'ㅋㅋㅋㅋㅋ', 'ㅎㅎ', 'ㅏㅏㅏㅏㅏ', 'ㅜㅜ', 'ㅠㅠ', 'ㅠㅠㅠ', 'ㅠㅠㅠㅠ', 'ㅠㅠㅠㅠㅠ', 'ㅡㅡ', '韓日', '\"코로나19',\n",
    "'일당15-30만~당일결제', '일당15-30만ㄱㅗ수익', '사기거절', '상다카톡', '상담카톡:', '상담톡:', '네이버', '뉴스', '뉴스1', '출처', '집에서편하', '언제', '언제던연락주세요', '나이23세이상', '환영',\n",
    "'계약금', '예약금', '할수있는알ㅂㅏ', '누구','알ㅂㅏ', '자택알ㅂㅏ']"
   ]
  },
  {
   "cell_type": "code",
   "execution_count": 5,
   "metadata": {},
   "outputs": [],
   "source": [
    "word_list1 = flatten(temp)\n",
    "word_list2 = [x for x in word_list1 if len(x)>1]\n",
    "word_list3 = [i for i in word_list2 if i not in stopwords]\n",
    "word_list4 = pd.Series(word_list3)\n",
    "word_list5 = word_list4.value_counts().head(200)\n",
    "word_list6 = list(word_list5.index)"
   ]
  },
  {
   "cell_type": "code",
   "execution_count": 6,
   "metadata": {},
   "outputs": [
    {
     "data": {
      "text/html": [
       "<div>\n",
       "<style scoped>\n",
       "    .dataframe tbody tr th:only-of-type {\n",
       "        vertical-align: middle;\n",
       "    }\n",
       "\n",
       "    .dataframe tbody tr th {\n",
       "        vertical-align: top;\n",
       "    }\n",
       "\n",
       "    .dataframe thead th {\n",
       "        text-align: right;\n",
       "    }\n",
       "</style>\n",
       "<table border=\"1\" class=\"dataframe\">\n",
       "  <thead>\n",
       "    <tr style=\"text-align: right;\">\n",
       "      <th></th>\n",
       "      <th>가능</th>\n",
       "      <th>가능성</th>\n",
       "      <th>가짜뉴스</th>\n",
       "      <th>감사</th>\n",
       "      <th>감염</th>\n",
       "      <th>감염병</th>\n",
       "      <th>감염자</th>\n",
       "      <th>감염증</th>\n",
       "      <th>개발</th>\n",
       "      <th>개학</th>\n",
       "      <th>...</th>\n",
       "      <th>항체</th>\n",
       "      <th>행복</th>\n",
       "      <th>현황</th>\n",
       "      <th>확산</th>\n",
       "      <th>확인</th>\n",
       "      <th>확진</th>\n",
       "      <th>확진자</th>\n",
       "      <th>환자</th>\n",
       "      <th>활동</th>\n",
       "      <th>회사</th>\n",
       "    </tr>\n",
       "  </thead>\n",
       "  <tbody>\n",
       "    <tr>\n",
       "      <td>0</td>\n",
       "      <td>0</td>\n",
       "      <td>0</td>\n",
       "      <td>0</td>\n",
       "      <td>0</td>\n",
       "      <td>0</td>\n",
       "      <td>0</td>\n",
       "      <td>0</td>\n",
       "      <td>0</td>\n",
       "      <td>0</td>\n",
       "      <td>0</td>\n",
       "      <td>...</td>\n",
       "      <td>0</td>\n",
       "      <td>0</td>\n",
       "      <td>0</td>\n",
       "      <td>0</td>\n",
       "      <td>0</td>\n",
       "      <td>0</td>\n",
       "      <td>0</td>\n",
       "      <td>0</td>\n",
       "      <td>0</td>\n",
       "      <td>0</td>\n",
       "    </tr>\n",
       "    <tr>\n",
       "      <td>1</td>\n",
       "      <td>0</td>\n",
       "      <td>0</td>\n",
       "      <td>0</td>\n",
       "      <td>0</td>\n",
       "      <td>0</td>\n",
       "      <td>0</td>\n",
       "      <td>0</td>\n",
       "      <td>0</td>\n",
       "      <td>0</td>\n",
       "      <td>0</td>\n",
       "      <td>...</td>\n",
       "      <td>0</td>\n",
       "      <td>0</td>\n",
       "      <td>0</td>\n",
       "      <td>0</td>\n",
       "      <td>0</td>\n",
       "      <td>0</td>\n",
       "      <td>0</td>\n",
       "      <td>0</td>\n",
       "      <td>0</td>\n",
       "      <td>0</td>\n",
       "    </tr>\n",
       "    <tr>\n",
       "      <td>2</td>\n",
       "      <td>0</td>\n",
       "      <td>0</td>\n",
       "      <td>0</td>\n",
       "      <td>0</td>\n",
       "      <td>0</td>\n",
       "      <td>0</td>\n",
       "      <td>0</td>\n",
       "      <td>0</td>\n",
       "      <td>0</td>\n",
       "      <td>0</td>\n",
       "      <td>...</td>\n",
       "      <td>0</td>\n",
       "      <td>0</td>\n",
       "      <td>0</td>\n",
       "      <td>0</td>\n",
       "      <td>0</td>\n",
       "      <td>0</td>\n",
       "      <td>0</td>\n",
       "      <td>0</td>\n",
       "      <td>0</td>\n",
       "      <td>0</td>\n",
       "    </tr>\n",
       "    <tr>\n",
       "      <td>3</td>\n",
       "      <td>0</td>\n",
       "      <td>0</td>\n",
       "      <td>0</td>\n",
       "      <td>0</td>\n",
       "      <td>0</td>\n",
       "      <td>0</td>\n",
       "      <td>0</td>\n",
       "      <td>0</td>\n",
       "      <td>0</td>\n",
       "      <td>0</td>\n",
       "      <td>...</td>\n",
       "      <td>0</td>\n",
       "      <td>0</td>\n",
       "      <td>0</td>\n",
       "      <td>0</td>\n",
       "      <td>0</td>\n",
       "      <td>0</td>\n",
       "      <td>0</td>\n",
       "      <td>0</td>\n",
       "      <td>0</td>\n",
       "      <td>0</td>\n",
       "    </tr>\n",
       "    <tr>\n",
       "      <td>4</td>\n",
       "      <td>0</td>\n",
       "      <td>0</td>\n",
       "      <td>0</td>\n",
       "      <td>0</td>\n",
       "      <td>0</td>\n",
       "      <td>0</td>\n",
       "      <td>0</td>\n",
       "      <td>0</td>\n",
       "      <td>0</td>\n",
       "      <td>0</td>\n",
       "      <td>...</td>\n",
       "      <td>0</td>\n",
       "      <td>0</td>\n",
       "      <td>0</td>\n",
       "      <td>0</td>\n",
       "      <td>0</td>\n",
       "      <td>0</td>\n",
       "      <td>0</td>\n",
       "      <td>0</td>\n",
       "      <td>0</td>\n",
       "      <td>0</td>\n",
       "    </tr>\n",
       "  </tbody>\n",
       "</table>\n",
       "<p>5 rows × 196 columns</p>\n",
       "</div>"
      ],
      "text/plain": [
       "   가능  가능성  가짜뉴스  감사  감염  감염병  감염자  감염증  개발  개학  ...  항체  행복  현황  확산  확인  확진  \\\n",
       "0   0    0     0   0   0    0    0    0   0   0  ...   0   0   0   0   0   0   \n",
       "1   0    0     0   0   0    0    0    0   0   0  ...   0   0   0   0   0   0   \n",
       "2   0    0     0   0   0    0    0    0   0   0  ...   0   0   0   0   0   0   \n",
       "3   0    0     0   0   0    0    0    0   0   0  ...   0   0   0   0   0   0   \n",
       "4   0    0     0   0   0    0    0    0   0   0  ...   0   0   0   0   0   0   \n",
       "\n",
       "   확진자  환자  활동  회사  \n",
       "0    0   0   0   0  \n",
       "1    0   0   0   0  \n",
       "2    0   0   0   0  \n",
       "3    0   0   0   0  \n",
       "4    0   0   0   0  \n",
       "\n",
       "[5 rows x 196 columns]"
      ]
     },
     "execution_count": 6,
     "metadata": {},
     "output_type": "execute_result"
    }
   ],
   "source": [
    "from sklearn.feature_extraction.text import CountVectorizer\n",
    "vec=CountVectorizer()\n",
    "X=vec.fit_transform(word_list6) \n",
    "df=pd.DataFrame(X.toarray(), columns=vec.get_feature_names())\n",
    "df.head()"
   ]
  },
  {
   "cell_type": "code",
   "execution_count": 23,
   "metadata": {},
   "outputs": [
    {
     "name": "stdout",
     "output_type": "stream",
     "text": [
      "DBSCAN(algorithm='auto', eps=2, leaf_size=30, metric='euclidean',\n",
      "       metric_params=None, min_samples=2, n_jobs=None, p=None)\n",
      "[0 0 0 0 0 0 0 0 0 0 0 0 0 0 0 0 0 0 0 0 0 0 0 0 0 0 0 0 0 0 0 0 0 0 0 0 0\n",
      " 0 0 0 0 0 0 0 0 0 0 0 0 0 0 0 0 0 0 0 0 0 0 0 0 0 0 0 0 0 0 0 0 0 0 0 0 0\n",
      " 0 0 0 0 0 0 0 0 0 0 0 0 0 0 0 0 0 0 0 0 0 0 0 0 0 0 0 0 0 0 0 0 0 0 0 0 0\n",
      " 0 0 0 0 0 0 0 0 0 0 0 0 0 0 0 0 0 0 0 0 0 0 0 0 0 0 0 0 0 0 0 0 0 0 0 0 0\n",
      " 0 0 0 0 0 0 0 0 0 0 0 0 0 0 0 0 0 0 0 0 0 0 0 0 0 0 0 0 0 0 0 0 0 0 0 0 0\n",
      " 0 0 0 0 0 0 0 0 0 0 0 0 0 0 0]\n"
     ]
    },
    {
     "data": {
      "text/plain": [
       "<matplotlib.collections.PathCollection at 0x1c49296adc8>"
      ]
     },
     "execution_count": 23,
     "metadata": {},
     "output_type": "execute_result"
    },
    {
     "data": {
      "image/png": "[encoded data removed]",
      "text/plain": [
       "<Figure size 432x288 with 1 Axes>"
      ]
     },
     "metadata": {
      "needs_background": "light"
     },
     "output_type": "display_data"
    }
   ],
   "source": [
    "%matplotlib inline\n",
    "import matplotlib.pyplot as plt\n",
    "from sklearn.cluster import DBSCAN\n",
    "import numpy as np\n",
    "\n",
    "X=np.array(df)\n",
    "# eps 최소거리, min_samples 최소샘플갯수\n",
    "# 거리 3 이내에 2개 이상의 샘플이 모여 있으면 군집으로 분류\n",
    "# 규칙에 맞지 않는 샘플들은 -1로 분류됨(아웃라이어)\n",
    "model=DBSCAN(eps=2, min_samples=2).fit(X)\n",
    "print(model)\n",
    "print(model.labels_)\n",
    "plt.scatter(X[:,0],X[:,1])"
   ]
  },
  {
   "cell_type": "code",
   "execution_count": null,
   "metadata": {},
   "outputs": [],
   "source": []
  },
  {
   "cell_type": "code",
   "execution_count": null,
   "metadata": {},
   "outputs": [],
   "source": []
  },
  {
   "cell_type": "code",
   "execution_count": null,
   "metadata": {},
   "outputs": [],
   "source": []
  },
  {
   "cell_type": "code",
   "execution_count": null,
   "metadata": {},
   "outputs": [],
   "source": []
  },
  {
   "cell_type": "code",
   "execution_count": null,
   "metadata": {},
   "outputs": [],
   "source": []
  },
  {
   "cell_type": "code",
   "execution_count": null,
   "metadata": {},
   "outputs": [],
   "source": []
  },
  {
   "cell_type": "code",
   "execution_count": null,
   "metadata": {},
   "outputs": [],
   "source": []
  },
  {
   "cell_type": "code",
   "execution_count": null,
   "metadata": {},
   "outputs": [],
   "source": []
  },
  {
   "cell_type": "code",
   "execution_count": null,
   "metadata": {},
   "outputs": [],
   "source": []
  },
  {
   "cell_type": "code",
   "execution_count": null,
   "metadata": {},
   "outputs": [],
   "source": []
  },
  {
   "cell_type": "code",
   "execution_count": null,
   "metadata": {},
   "outputs": [],
   "source": []
  },
  {
   "cell_type": "code",
   "execution_count": null,
   "metadata": {},
   "outputs": [],
   "source": []
  },
  {
   "cell_type": "code",
   "execution_count": null,
   "metadata": {},
   "outputs": [],
   "source": []
  },
  {
   "cell_type": "code",
   "execution_count": null,
   "metadata": {},
   "outputs": [],
   "source": []
  },
  {
   "cell_type": "code",
   "execution_count": null,
   "metadata": {},
   "outputs": [],
   "source": []
  },
  {
   "cell_type": "code",
   "execution_count": null,
   "metadata": {},
   "outputs": [],
   "source": []
  },
  {
   "cell_type": "code",
   "execution_count": null,
   "metadata": {},
   "outputs": [],
   "source": []
  },
  {
   "cell_type": "code",
   "execution_count": null,
   "metadata": {},
   "outputs": [],
   "source": []
  },
  {
   "cell_type": "code",
   "execution_count": null,
   "metadata": {},
   "outputs": [],
   "source": []
  },
  {
   "cell_type": "code",
   "execution_count": null,
   "metadata": {},
   "outputs": [],
   "source": []
  },
  {
   "cell_type": "code",
   "execution_count": null,
   "metadata": {},
   "outputs": [],
   "source": []
  },
  {
   "cell_type": "code",
   "execution_count": null,
   "metadata": {},
   "outputs": [],
   "source": []
  },
  {
   "cell_type": "code",
   "execution_count": null,
   "metadata": {},
   "outputs": [],
   "source": []
  },
  {
   "cell_type": "code",
   "execution_count": null,
   "metadata": {},
   "outputs": [],
   "source": []
  },
  {
   "cell_type": "code",
   "execution_count": null,
   "metadata": {},
   "outputs": [],
   "source": []
  },
  {
   "cell_type": "code",
   "execution_count": null,
   "metadata": {},
   "outputs": [],
   "source": []
  },
  {
   "cell_type": "code",
   "execution_count": null,
   "metadata": {},
   "outputs": [],
   "source": []
  },
  {
   "cell_type": "code",
   "execution_count": null,
   "metadata": {},
   "outputs": [],
   "source": []
  },
  {
   "cell_type": "code",
   "execution_count": null,
   "metadata": {},
   "outputs": [],
   "source": []
  },
  {
   "cell_type": "code",
   "execution_count": null,
   "metadata": {},
   "outputs": [],
   "source": []
  }
 ],
 "metadata": {
  "kernelspec": {
   "display_name": "Python 3",
   "language": "python",
   "name": "python3"
  },
  "language_info": {
   "codemirror_mode": {
    "name": "ipython",
    "version": 3
   },
   "file_extension": ".py",
   "mimetype": "text/x-python",
   "name": "python",
   "nbconvert_exporter": "python",
   "pygments_lexer": "ipython3",
   "version": "3.7.4"
  }
 },
 "nbformat": 4,
 "nbformat_minor": 2
}
